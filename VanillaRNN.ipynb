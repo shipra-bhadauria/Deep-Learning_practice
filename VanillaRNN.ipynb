{
  "nbformat": 4,
  "nbformat_minor": 0,
  "metadata": {
    "colab": {
      "name": "VanillaRNN.ipynb",
      "provenance": [],
      "include_colab_link": true
    },
    "kernelspec": {
      "name": "python3",
      "display_name": "Python 3"
    },
    "accelerator": "GPU"
  },
  "cells": [
    {
      "cell_type": "markdown",
      "metadata": {
        "id": "view-in-github",
        "colab_type": "text"
      },
      "source": [
        "<a href=\"https://colab.research.google.com/github/shipra-bhadauria/Deep-Learning_practice/blob/main/VanillaRNN.ipynb\" target=\"_parent\"><img src=\"https://colab.research.google.com/assets/colab-badge.svg\" alt=\"Open In Colab\"/></a>"
      ]
    },
    {
      "cell_type": "markdown",
      "metadata": {
        "id": "380EOpqIkyOr"
      },
      "source": [
        "\n",
        "-----------Problem Statement---------------------\n",
        "\n",
        "Reuters Newswire Topic Classification Dataset. \n",
        "\n",
        "It consists of 11,228 newswires from Reuters classified into 46 main topics.\n",
        "Features  is a list of sequences which represents the newswire text.\n",
        "\n",
        "Labels is a list of integer labels from 1 to 90 which represents different categories."
      ]
    },
    {
      "cell_type": "code",
      "metadata": {
        "id": "aH91phA4koVi"
      },
      "source": [
        "import numpy as np\n",
        "\n",
        "from sklearn.metrics import accuracy_score\n",
        "from keras.datasets import reuters\n",
        "from keras.preprocessing.sequence import pad_sequences\n",
        "from tensorflow.keras.utils import to_categorical\n",
        "from keras.models import Sequential\n",
        "from keras.layers import Dense, SimpleRNN, Activation\n",
        "from keras import optimizers\n",
        "from keras.wrappers.scikit_learn import KerasClassifier"
      ],
      "execution_count": null,
      "outputs": []
    },
    {
      "cell_type": "code",
      "metadata": {
        "id": "MFRJwgjXlNxx"
      },
      "source": [
        "# parameters for data load\n",
        "## num_worsds: top most frequent words to consider;\n",
        "## maxlen= maximum sequence lengths to be considered, truncate long sequences.\n",
        "num_words = 30000\n",
        "maxlen = 50\n",
        "test_split = 0.3"
      ],
      "execution_count": null,
      "outputs": []
    },
    {
      "cell_type": "code",
      "metadata": {
        "id": "oI-fN53ZlWg6",
        "colab": {
          "base_uri": "https://localhost:8080/"
        },
        "outputId": "6cd7eda7-9071-45ae-e0c5-ee8d9aa08f90"
      },
      "source": [
        "(X_train, y_train), (X_test, y_test) = reuters.load_data(num_words = num_words, maxlen = maxlen, test_split = test_split)\n",
        "print(X_train.shape)\n",
        "print(y_train.shape)\n",
        "\n",
        "print(X_test.shape)\n",
        "print(y_test.shape)"
      ],
      "execution_count": null,
      "outputs": [
        {
          "output_type": "stream",
          "text": [
            "Downloading data from https://storage.googleapis.com/tensorflow/tf-keras-datasets/reuters.npz\n",
            "2113536/2110848 [==============================] - 0s 0us/step\n",
            "2121728/2110848 [==============================] - 0s 0us/step\n",
            "(1395,)\n",
            "(1395,)\n",
            "(599,)\n",
            "(599,)\n"
          ],
          "name": "stdout"
        },
        {
          "output_type": "stream",
          "text": [
            "/usr/local/lib/python3.7/dist-packages/keras/datasets/reuters.py:143: VisibleDeprecationWarning: Creating an ndarray from ragged nested sequences (which is a list-or-tuple of lists-or-tuples-or ndarrays with different lengths or shapes) is deprecated. If you meant to do this, you must specify 'dtype=object' when creating the ndarray\n",
            "  x_train, y_train = np.array(xs[:idx]), np.array(labels[:idx])\n",
            "/usr/local/lib/python3.7/dist-packages/keras/datasets/reuters.py:144: VisibleDeprecationWarning: Creating an ndarray from ragged nested sequences (which is a list-or-tuple of lists-or-tuples-or ndarrays with different lengths or shapes) is deprecated. If you meant to do this, you must specify 'dtype=object' when creating the ndarray\n",
            "  x_test, y_test = np.array(xs[idx:]), np.array(labels[idx:])\n"
          ],
          "name": "stderr"
        }
      ]
    },
    {
      "cell_type": "code",
      "metadata": {
        "id": "GlVEhlQHll_8",
        "colab": {
          "base_uri": "https://localhost:8080/"
        },
        "outputId": "ab72fb8f-b1b0-44ca-84f4-89750fb7adbd"
      },
      "source": [
        "#pad_sequences transform a list into a 2D array\n",
        "# pad the sequences with zeros \n",
        "# padding parameter is set to 'post' => 0's are appended to end of sequences\n",
        "X_train = pad_sequences(X_train, padding = 'post')\n",
        "X_test = pad_sequences(X_test, padding = 'post')\n",
        "X_train[0]"
      ],
      "execution_count": null,
      "outputs": [
        {
          "output_type": "execute_result",
          "data": {
            "text/plain": [
              "array([   1,  245,  273,  207,  156,   53,   74,  160,   26,   14,   46,\n",
              "        296,   26,   39,   74, 2979, 3554,   14,   46, 4689, 4329,   86,\n",
              "         61, 3499, 4795,   14,   61,  451, 4329,   17,   12,    0,    0,\n",
              "          0,    0,    0,    0,    0,    0,    0,    0,    0,    0,    0,\n",
              "          0,    0,    0,    0,    0], dtype=int32)"
            ]
          },
          "metadata": {
            "tags": []
          },
          "execution_count": 4
        }
      ]
    },
    {
      "cell_type": "code",
      "metadata": {
        "id": "JyFABbcgmTm9",
        "colab": {
          "base_uri": "https://localhost:8080/"
        },
        "outputId": "7c3f1962-6140-409f-ae94-f6e0492ac381"
      },
      "source": [
        "X_train.shape"
      ],
      "execution_count": null,
      "outputs": [
        {
          "output_type": "execute_result",
          "data": {
            "text/plain": [
              "(1395, 49)"
            ]
          },
          "metadata": {
            "tags": []
          },
          "execution_count": 5
        }
      ]
    },
    {
      "cell_type": "code",
      "metadata": {
        "id": "SZuvZ5ZXmB74",
        "colab": {
          "base_uri": "https://localhost:8080/"
        },
        "outputId": "359b4524-a9c2-4f52-8f25-5a66aca15617"
      },
      "source": [
        "X_train = np.array(X_train).reshape((X_train.shape[0], X_train.shape[1], 1))\n",
        "X_test = np.array(X_test).reshape((X_test.shape[0], X_test.shape[1], 1))\n",
        "X_train.shape"
      ],
      "execution_count": null,
      "outputs": [
        {
          "output_type": "execute_result",
          "data": {
            "text/plain": [
              "(1395, 49, 1)"
            ]
          },
          "metadata": {
            "tags": []
          },
          "execution_count": 6
        }
      ]
    },
    {
      "cell_type": "code",
      "metadata": {
        "id": "WNRPMJXHmhr9"
      },
      "source": [
        "y_data = np.concatenate((y_train, y_test))\n",
        "y_data = to_categorical(y_data)\n",
        "y_train = y_data[:1395]\n",
        "y_test = y_data[1395:]"
      ],
      "execution_count": null,
      "outputs": []
    },
    {
      "cell_type": "code",
      "metadata": {
        "id": "NBXC4qQ1Jr9d",
        "colab": {
          "base_uri": "https://localhost:8080/"
        },
        "outputId": "d7378474-bd68-4fb5-e37b-71da2eca64b9"
      },
      "source": [
        "print(y_train.shape)\n",
        "print(y_test.shape)"
      ],
      "execution_count": null,
      "outputs": [
        {
          "output_type": "stream",
          "text": [
            "(1395, 46)\n",
            "(599, 46)\n"
          ],
          "name": "stdout"
        }
      ]
    },
    {
      "cell_type": "code",
      "metadata": {
        "id": "ZdBFeQUyK51D",
        "colab": {
          "base_uri": "https://localhost:8080/"
        },
        "outputId": "51604686-96ea-457b-dc8e-25794569e57f"
      },
      "source": [
        "y_data[1,:]"
      ],
      "execution_count": null,
      "outputs": [
        {
          "output_type": "execute_result",
          "data": {
            "text/plain": [
              "array([0., 0., 0., 1., 0., 0., 0., 0., 0., 0., 0., 0., 0., 0., 0., 0., 0.,\n",
              "       0., 0., 0., 0., 0., 0., 0., 0., 0., 0., 0., 0., 0., 0., 0., 0., 0.,\n",
              "       0., 0., 0., 0., 0., 0., 0., 0., 0., 0., 0., 0.], dtype=float32)"
            ]
          },
          "metadata": {
            "tags": []
          },
          "execution_count": 9
        }
      ]
    },
    {
      "cell_type": "code",
      "metadata": {
        "id": "sGHxiMDZmohR"
      },
      "source": [
        "def vanilla_rnn():\n",
        "    model = Sequential()\n",
        "    model.add(SimpleRNN(30, input_shape = (49,1), return_sequences = False, dropout=0.2))\n",
        "    model.add(Dense(46)) #output layer \n",
        "    model.add(Activation('softmax'))\n",
        "    \n",
        "    adam = optimizers.Adam(lr = 0.001)\n",
        "    model.compile(loss = 'categorical_crossentropy', optimizer = adam, metrics = ['accuracy'])\n",
        "    \n",
        "    return model"
      ],
      "execution_count": null,
      "outputs": []
    },
    {
      "cell_type": "code",
      "metadata": {
        "id": "ndazzZrbmwTG",
        "colab": {
          "base_uri": "https://localhost:8080/"
        },
        "outputId": "8607f040-fd32-47e1-84c7-ca13bf84349c"
      },
      "source": [
        "model = KerasClassifier(build_fn = vanilla_rnn, epochs = 200, batch_size = 50, verbose = 1,validation_data=(X_test,y_test))\n",
        "history=model.fit(X_train, y_train)"
      ],
      "execution_count": null,
      "outputs": [
        {
          "output_type": "stream",
          "text": [
            "Epoch 1/200\n",
            "28/28 [==============================] - 1s 41ms/step - loss: 3.6047 - accuracy: 0.3441 - val_loss: 3.1438 - val_accuracy: 0.6144\n",
            "Epoch 2/200\n",
            "28/28 [==============================] - 1s 39ms/step - loss: 2.5394 - accuracy: 0.6444 - val_loss: 1.8821 - val_accuracy: 0.7028\n",
            "Epoch 3/200\n",
            "28/28 [==============================] - 1s 37ms/step - loss: 1.6049 - accuracy: 0.6796 - val_loss: 1.3069 - val_accuracy: 0.7229\n",
            "Epoch 4/200\n",
            "28/28 [==============================] - 1s 33ms/step - loss: 1.3060 - accuracy: 0.6918 - val_loss: 1.1965 - val_accuracy: 0.7229\n",
            "Epoch 5/200\n",
            "28/28 [==============================] - 1s 33ms/step - loss: 1.2307 - accuracy: 0.7032 - val_loss: 1.1677 - val_accuracy: 0.7479\n",
            "Epoch 6/200\n",
            "28/28 [==============================] - 1s 35ms/step - loss: 1.2002 - accuracy: 0.7133 - val_loss: 1.1566 - val_accuracy: 0.7479\n",
            "Epoch 7/200\n",
            "28/28 [==============================] - 1s 34ms/step - loss: 1.1879 - accuracy: 0.7140 - val_loss: 1.1506 - val_accuracy: 0.7479\n",
            "Epoch 8/200\n",
            "28/28 [==============================] - 1s 35ms/step - loss: 1.1811 - accuracy: 0.7147 - val_loss: 1.1420 - val_accuracy: 0.7479\n",
            "Epoch 9/200\n",
            "28/28 [==============================] - 1s 35ms/step - loss: 1.1704 - accuracy: 0.7147 - val_loss: 1.1426 - val_accuracy: 0.7479\n",
            "Epoch 10/200\n",
            "28/28 [==============================] - 1s 34ms/step - loss: 1.1644 - accuracy: 0.7147 - val_loss: 1.1381 - val_accuracy: 0.7479\n",
            "Epoch 11/200\n",
            "28/28 [==============================] - 1s 34ms/step - loss: 1.1624 - accuracy: 0.7147 - val_loss: 1.1409 - val_accuracy: 0.7479\n",
            "Epoch 12/200\n",
            "28/28 [==============================] - 1s 34ms/step - loss: 1.1610 - accuracy: 0.7147 - val_loss: 1.1403 - val_accuracy: 0.7479\n",
            "Epoch 13/200\n",
            "28/28 [==============================] - 1s 34ms/step - loss: 1.1596 - accuracy: 0.7147 - val_loss: 1.1446 - val_accuracy: 0.7479\n",
            "Epoch 14/200\n",
            "28/28 [==============================] - 1s 33ms/step - loss: 1.1584 - accuracy: 0.7147 - val_loss: 1.1431 - val_accuracy: 0.7479\n",
            "Epoch 15/200\n",
            "28/28 [==============================] - 1s 35ms/step - loss: 1.1565 - accuracy: 0.7147 - val_loss: 1.1463 - val_accuracy: 0.7479\n",
            "Epoch 16/200\n",
            "28/28 [==============================] - 1s 34ms/step - loss: 1.1563 - accuracy: 0.7147 - val_loss: 1.1449 - val_accuracy: 0.7479\n",
            "Epoch 17/200\n",
            "28/28 [==============================] - 1s 33ms/step - loss: 1.1559 - accuracy: 0.7147 - val_loss: 1.1465 - val_accuracy: 0.7479\n",
            "Epoch 18/200\n",
            "28/28 [==============================] - 1s 36ms/step - loss: 1.1552 - accuracy: 0.7147 - val_loss: 1.1492 - val_accuracy: 0.7479\n",
            "Epoch 19/200\n",
            "28/28 [==============================] - 1s 35ms/step - loss: 1.1543 - accuracy: 0.7147 - val_loss: 1.1457 - val_accuracy: 0.7479\n",
            "Epoch 20/200\n",
            "28/28 [==============================] - 1s 38ms/step - loss: 1.1549 - accuracy: 0.7147 - val_loss: 1.1458 - val_accuracy: 0.7479\n",
            "Epoch 21/200\n",
            "28/28 [==============================] - 1s 34ms/step - loss: 1.1527 - accuracy: 0.7147 - val_loss: 1.1488 - val_accuracy: 0.7479\n",
            "Epoch 22/200\n",
            "28/28 [==============================] - 1s 40ms/step - loss: 1.1542 - accuracy: 0.7147 - val_loss: 1.1468 - val_accuracy: 0.7479\n",
            "Epoch 23/200\n",
            "28/28 [==============================] - 1s 36ms/step - loss: 1.1519 - accuracy: 0.7147 - val_loss: 1.1466 - val_accuracy: 0.7479\n",
            "Epoch 24/200\n",
            "28/28 [==============================] - 1s 33ms/step - loss: 1.1530 - accuracy: 0.7147 - val_loss: 1.1472 - val_accuracy: 0.7479\n",
            "Epoch 25/200\n",
            "28/28 [==============================] - 1s 33ms/step - loss: 1.1510 - accuracy: 0.7147 - val_loss: 1.1510 - val_accuracy: 0.7479\n",
            "Epoch 26/200\n",
            "28/28 [==============================] - 1s 33ms/step - loss: 1.1523 - accuracy: 0.7147 - val_loss: 1.1441 - val_accuracy: 0.7479\n",
            "Epoch 27/200\n",
            "28/28 [==============================] - 1s 34ms/step - loss: 1.1509 - accuracy: 0.7147 - val_loss: 1.1492 - val_accuracy: 0.7479\n",
            "Epoch 28/200\n",
            "28/28 [==============================] - 1s 34ms/step - loss: 1.1511 - accuracy: 0.7147 - val_loss: 1.1455 - val_accuracy: 0.7479\n",
            "Epoch 29/200\n",
            "28/28 [==============================] - 1s 35ms/step - loss: 1.1521 - accuracy: 0.7147 - val_loss: 1.1496 - val_accuracy: 0.7479\n",
            "Epoch 30/200\n",
            "28/28 [==============================] - 1s 41ms/step - loss: 1.1499 - accuracy: 0.7147 - val_loss: 1.1435 - val_accuracy: 0.7479\n",
            "Epoch 31/200\n",
            "28/28 [==============================] - 1s 35ms/step - loss: 1.1506 - accuracy: 0.7147 - val_loss: 1.1457 - val_accuracy: 0.7479\n",
            "Epoch 32/200\n",
            "28/28 [==============================] - 1s 33ms/step - loss: 1.1496 - accuracy: 0.7147 - val_loss: 1.1482 - val_accuracy: 0.7479\n",
            "Epoch 33/200\n",
            "28/28 [==============================] - 1s 39ms/step - loss: 1.1495 - accuracy: 0.7147 - val_loss: 1.1458 - val_accuracy: 0.7479\n",
            "Epoch 34/200\n",
            "28/28 [==============================] - 1s 34ms/step - loss: 1.1494 - accuracy: 0.7147 - val_loss: 1.1456 - val_accuracy: 0.7479\n",
            "Epoch 35/200\n",
            "28/28 [==============================] - 1s 33ms/step - loss: 1.1470 - accuracy: 0.7147 - val_loss: 1.1454 - val_accuracy: 0.7479\n",
            "Epoch 36/200\n",
            "28/28 [==============================] - 1s 33ms/step - loss: 1.1468 - accuracy: 0.7147 - val_loss: 1.1439 - val_accuracy: 0.7479\n",
            "Epoch 37/200\n",
            "28/28 [==============================] - 1s 34ms/step - loss: 1.1489 - accuracy: 0.7147 - val_loss: 1.1428 - val_accuracy: 0.7479\n",
            "Epoch 38/200\n",
            "28/28 [==============================] - 1s 44ms/step - loss: 1.1452 - accuracy: 0.7147 - val_loss: 1.1432 - val_accuracy: 0.7479\n",
            "Epoch 39/200\n",
            "28/28 [==============================] - 1s 35ms/step - loss: 1.1463 - accuracy: 0.7147 - val_loss: 1.1457 - val_accuracy: 0.7479\n",
            "Epoch 40/200\n",
            "28/28 [==============================] - 1s 39ms/step - loss: 1.1449 - accuracy: 0.7147 - val_loss: 1.1435 - val_accuracy: 0.7479\n",
            "Epoch 41/200\n",
            "28/28 [==============================] - 1s 34ms/step - loss: 1.1458 - accuracy: 0.7147 - val_loss: 1.1451 - val_accuracy: 0.7479\n",
            "Epoch 42/200\n",
            "28/28 [==============================] - 1s 37ms/step - loss: 1.1477 - accuracy: 0.7147 - val_loss: 1.1445 - val_accuracy: 0.7479\n",
            "Epoch 43/200\n",
            "28/28 [==============================] - 1s 34ms/step - loss: 1.1448 - accuracy: 0.7147 - val_loss: 1.1437 - val_accuracy: 0.7479\n",
            "Epoch 44/200\n",
            "28/28 [==============================] - 1s 33ms/step - loss: 1.1481 - accuracy: 0.7147 - val_loss: 1.1461 - val_accuracy: 0.7479\n",
            "Epoch 45/200\n",
            "28/28 [==============================] - 1s 39ms/step - loss: 1.1479 - accuracy: 0.7147 - val_loss: 1.1423 - val_accuracy: 0.7479\n",
            "Epoch 46/200\n",
            "28/28 [==============================] - 1s 37ms/step - loss: 1.1461 - accuracy: 0.7147 - val_loss: 1.1433 - val_accuracy: 0.7479\n",
            "Epoch 47/200\n",
            "28/28 [==============================] - 1s 34ms/step - loss: 1.1456 - accuracy: 0.7147 - val_loss: 1.1465 - val_accuracy: 0.7479\n",
            "Epoch 48/200\n",
            "28/28 [==============================] - 1s 33ms/step - loss: 1.1460 - accuracy: 0.7147 - val_loss: 1.1424 - val_accuracy: 0.7479\n",
            "Epoch 49/200\n",
            "28/28 [==============================] - 1s 34ms/step - loss: 1.1451 - accuracy: 0.7147 - val_loss: 1.1460 - val_accuracy: 0.7479\n",
            "Epoch 50/200\n",
            "28/28 [==============================] - 1s 34ms/step - loss: 1.1429 - accuracy: 0.7147 - val_loss: 1.1444 - val_accuracy: 0.7479\n",
            "Epoch 51/200\n",
            "28/28 [==============================] - 1s 34ms/step - loss: 1.1432 - accuracy: 0.7147 - val_loss: 1.1426 - val_accuracy: 0.7479\n",
            "Epoch 52/200\n",
            "28/28 [==============================] - 1s 33ms/step - loss: 1.1452 - accuracy: 0.7147 - val_loss: 1.1487 - val_accuracy: 0.7479\n",
            "Epoch 53/200\n",
            "28/28 [==============================] - 1s 38ms/step - loss: 1.1441 - accuracy: 0.7147 - val_loss: 1.1416 - val_accuracy: 0.7479\n",
            "Epoch 54/200\n",
            "28/28 [==============================] - 1s 38ms/step - loss: 1.1438 - accuracy: 0.7147 - val_loss: 1.1428 - val_accuracy: 0.7479\n",
            "Epoch 55/200\n",
            "28/28 [==============================] - 1s 40ms/step - loss: 1.1455 - accuracy: 0.7147 - val_loss: 1.1465 - val_accuracy: 0.7479\n",
            "Epoch 56/200\n",
            "28/28 [==============================] - 1s 35ms/step - loss: 1.1469 - accuracy: 0.7147 - val_loss: 1.1447 - val_accuracy: 0.7479\n",
            "Epoch 57/200\n",
            "28/28 [==============================] - 1s 41ms/step - loss: 1.1434 - accuracy: 0.7147 - val_loss: 1.1458 - val_accuracy: 0.7479\n",
            "Epoch 58/200\n",
            "28/28 [==============================] - 1s 34ms/step - loss: 1.1439 - accuracy: 0.7147 - val_loss: 1.1478 - val_accuracy: 0.7479\n",
            "Epoch 59/200\n",
            "28/28 [==============================] - 1s 40ms/step - loss: 1.1452 - accuracy: 0.7147 - val_loss: 1.1443 - val_accuracy: 0.7479\n",
            "Epoch 60/200\n",
            "28/28 [==============================] - 1s 39ms/step - loss: 1.1435 - accuracy: 0.7147 - val_loss: 1.1447 - val_accuracy: 0.7479\n",
            "Epoch 61/200\n",
            "28/28 [==============================] - 1s 33ms/step - loss: 1.1454 - accuracy: 0.7147 - val_loss: 1.1420 - val_accuracy: 0.7479\n",
            "Epoch 62/200\n",
            "28/28 [==============================] - 1s 35ms/step - loss: 1.1449 - accuracy: 0.7147 - val_loss: 1.1419 - val_accuracy: 0.7479\n",
            "Epoch 63/200\n",
            "28/28 [==============================] - 1s 35ms/step - loss: 1.1431 - accuracy: 0.7147 - val_loss: 1.1453 - val_accuracy: 0.7479\n",
            "Epoch 64/200\n",
            "28/28 [==============================] - 1s 37ms/step - loss: 1.1426 - accuracy: 0.7147 - val_loss: 1.1479 - val_accuracy: 0.7479\n",
            "Epoch 65/200\n",
            "28/28 [==============================] - 1s 36ms/step - loss: 1.1424 - accuracy: 0.7147 - val_loss: 1.1441 - val_accuracy: 0.7479\n",
            "Epoch 66/200\n",
            "28/28 [==============================] - 1s 34ms/step - loss: 1.1444 - accuracy: 0.7147 - val_loss: 1.1460 - val_accuracy: 0.7479\n",
            "Epoch 67/200\n",
            "28/28 [==============================] - 1s 34ms/step - loss: 1.1427 - accuracy: 0.7147 - val_loss: 1.1459 - val_accuracy: 0.7479\n",
            "Epoch 68/200\n",
            "28/28 [==============================] - 1s 34ms/step - loss: 1.1397 - accuracy: 0.7147 - val_loss: 1.1465 - val_accuracy: 0.7479\n",
            "Epoch 69/200\n",
            "28/28 [==============================] - 1s 36ms/step - loss: 1.1421 - accuracy: 0.7147 - val_loss: 1.1465 - val_accuracy: 0.7479\n",
            "Epoch 70/200\n",
            "28/28 [==============================] - 1s 33ms/step - loss: 1.1440 - accuracy: 0.7147 - val_loss: 1.1462 - val_accuracy: 0.7479\n",
            "Epoch 71/200\n",
            "28/28 [==============================] - 1s 34ms/step - loss: 1.1408 - accuracy: 0.7147 - val_loss: 1.1503 - val_accuracy: 0.7479\n",
            "Epoch 72/200\n",
            "28/28 [==============================] - 1s 34ms/step - loss: 1.1400 - accuracy: 0.7147 - val_loss: 1.1504 - val_accuracy: 0.7479\n",
            "Epoch 73/200\n",
            "28/28 [==============================] - 1s 34ms/step - loss: 1.1414 - accuracy: 0.7147 - val_loss: 1.1465 - val_accuracy: 0.7479\n",
            "Epoch 74/200\n",
            "28/28 [==============================] - 1s 35ms/step - loss: 1.1402 - accuracy: 0.7147 - val_loss: 1.1528 - val_accuracy: 0.7479\n",
            "Epoch 75/200\n",
            "28/28 [==============================] - 1s 33ms/step - loss: 1.1430 - accuracy: 0.7147 - val_loss: 1.1459 - val_accuracy: 0.7479\n",
            "Epoch 76/200\n",
            "28/28 [==============================] - 1s 34ms/step - loss: 1.1384 - accuracy: 0.7147 - val_loss: 1.1482 - val_accuracy: 0.7479\n",
            "Epoch 77/200\n",
            "28/28 [==============================] - 1s 34ms/step - loss: 1.1414 - accuracy: 0.7147 - val_loss: 1.1460 - val_accuracy: 0.7479\n",
            "Epoch 78/200\n",
            "28/28 [==============================] - 1s 33ms/step - loss: 1.1412 - accuracy: 0.7147 - val_loss: 1.1461 - val_accuracy: 0.7479\n",
            "Epoch 79/200\n",
            "28/28 [==============================] - 1s 37ms/step - loss: 1.1378 - accuracy: 0.7147 - val_loss: 1.1459 - val_accuracy: 0.7479\n",
            "Epoch 80/200\n",
            "28/28 [==============================] - 1s 34ms/step - loss: 1.1386 - accuracy: 0.7147 - val_loss: 1.1519 - val_accuracy: 0.7479\n",
            "Epoch 81/200\n",
            "28/28 [==============================] - 1s 33ms/step - loss: 1.1356 - accuracy: 0.7147 - val_loss: 1.1436 - val_accuracy: 0.7479\n",
            "Epoch 82/200\n",
            "28/28 [==============================] - 1s 37ms/step - loss: 1.1327 - accuracy: 0.7147 - val_loss: 1.1402 - val_accuracy: 0.7479\n",
            "Epoch 83/200\n",
            "28/28 [==============================] - 1s 39ms/step - loss: 1.1359 - accuracy: 0.7147 - val_loss: 1.1399 - val_accuracy: 0.7479\n",
            "Epoch 84/200\n",
            "28/28 [==============================] - 1s 40ms/step - loss: 1.1286 - accuracy: 0.7147 - val_loss: 1.1496 - val_accuracy: 0.7479\n",
            "Epoch 85/200\n",
            "28/28 [==============================] - 1s 36ms/step - loss: 1.1195 - accuracy: 0.7147 - val_loss: 1.1976 - val_accuracy: 0.7479\n",
            "Epoch 86/200\n",
            "28/28 [==============================] - 1s 40ms/step - loss: 1.1267 - accuracy: 0.7147 - val_loss: 1.1409 - val_accuracy: 0.7479\n",
            "Epoch 87/200\n",
            "28/28 [==============================] - 1s 35ms/step - loss: 1.1257 - accuracy: 0.7147 - val_loss: 1.1684 - val_accuracy: 0.7479\n",
            "Epoch 88/200\n",
            "28/28 [==============================] - 1s 37ms/step - loss: 1.1176 - accuracy: 0.7147 - val_loss: 1.1292 - val_accuracy: 0.7479\n",
            "Epoch 89/200\n",
            "28/28 [==============================] - 1s 34ms/step - loss: 1.1181 - accuracy: 0.7147 - val_loss: 1.1315 - val_accuracy: 0.7479\n",
            "Epoch 90/200\n",
            "28/28 [==============================] - 1s 34ms/step - loss: 1.1152 - accuracy: 0.7147 - val_loss: 1.1299 - val_accuracy: 0.7479\n",
            "Epoch 91/200\n",
            "28/28 [==============================] - 1s 34ms/step - loss: 1.0979 - accuracy: 0.7147 - val_loss: 1.1190 - val_accuracy: 0.7479\n",
            "Epoch 92/200\n",
            "28/28 [==============================] - 1s 34ms/step - loss: 1.0917 - accuracy: 0.7147 - val_loss: 1.1166 - val_accuracy: 0.7479\n",
            "Epoch 93/200\n",
            "28/28 [==============================] - 1s 34ms/step - loss: 1.1281 - accuracy: 0.7147 - val_loss: 1.1114 - val_accuracy: 0.7479\n",
            "Epoch 94/200\n",
            "28/28 [==============================] - 1s 37ms/step - loss: 1.0940 - accuracy: 0.7147 - val_loss: 1.1136 - val_accuracy: 0.7479\n",
            "Epoch 95/200\n",
            "28/28 [==============================] - 1s 40ms/step - loss: 1.1065 - accuracy: 0.7147 - val_loss: 1.1167 - val_accuracy: 0.7479\n",
            "Epoch 96/200\n",
            "28/28 [==============================] - 1s 35ms/step - loss: 1.0916 - accuracy: 0.7147 - val_loss: 1.1290 - val_accuracy: 0.7479\n",
            "Epoch 97/200\n",
            "28/28 [==============================] - 1s 34ms/step - loss: 1.0911 - accuracy: 0.7147 - val_loss: 1.1087 - val_accuracy: 0.7479\n",
            "Epoch 98/200\n",
            "28/28 [==============================] - 1s 38ms/step - loss: 1.0836 - accuracy: 0.7147 - val_loss: 1.1008 - val_accuracy: 0.7479\n",
            "Epoch 99/200\n",
            "28/28 [==============================] - 1s 33ms/step - loss: 1.0854 - accuracy: 0.7147 - val_loss: 1.1237 - val_accuracy: 0.7479\n",
            "Epoch 100/200\n",
            "28/28 [==============================] - 1s 33ms/step - loss: 1.1003 - accuracy: 0.7147 - val_loss: 1.1098 - val_accuracy: 0.7462\n",
            "Epoch 101/200\n",
            "28/28 [==============================] - 1s 34ms/step - loss: 1.0768 - accuracy: 0.7147 - val_loss: 1.1151 - val_accuracy: 0.7479\n",
            "Epoch 102/200\n",
            "28/28 [==============================] - 1s 39ms/step - loss: 1.0784 - accuracy: 0.7147 - val_loss: 1.1021 - val_accuracy: 0.7479\n",
            "Epoch 103/200\n",
            "28/28 [==============================] - 1s 38ms/step - loss: 1.0809 - accuracy: 0.7147 - val_loss: 1.0958 - val_accuracy: 0.7479\n",
            "Epoch 104/200\n",
            "28/28 [==============================] - 1s 38ms/step - loss: 1.0877 - accuracy: 0.7147 - val_loss: 1.1004 - val_accuracy: 0.7462\n",
            "Epoch 105/200\n",
            "28/28 [==============================] - 1s 39ms/step - loss: 1.0912 - accuracy: 0.7147 - val_loss: 1.1205 - val_accuracy: 0.7479\n",
            "Epoch 106/200\n",
            "28/28 [==============================] - 1s 35ms/step - loss: 1.0871 - accuracy: 0.7154 - val_loss: 1.1104 - val_accuracy: 0.7462\n",
            "Epoch 107/200\n",
            "28/28 [==============================] - 1s 33ms/step - loss: 1.0748 - accuracy: 0.7140 - val_loss: 1.1154 - val_accuracy: 0.7462\n",
            "Epoch 108/200\n",
            "28/28 [==============================] - 1s 34ms/step - loss: 1.0718 - accuracy: 0.7140 - val_loss: 1.1069 - val_accuracy: 0.7479\n",
            "Epoch 109/200\n",
            "28/28 [==============================] - 1s 34ms/step - loss: 1.0700 - accuracy: 0.7147 - val_loss: 1.1013 - val_accuracy: 0.7462\n",
            "Epoch 110/200\n",
            "28/28 [==============================] - 1s 34ms/step - loss: 1.0641 - accuracy: 0.7147 - val_loss: 1.1040 - val_accuracy: 0.7462\n",
            "Epoch 111/200\n",
            "28/28 [==============================] - 1s 34ms/step - loss: 1.0680 - accuracy: 0.7147 - val_loss: 1.1027 - val_accuracy: 0.7462\n",
            "Epoch 112/200\n",
            "28/28 [==============================] - 1s 33ms/step - loss: 1.0814 - accuracy: 0.7140 - val_loss: 1.0998 - val_accuracy: 0.7462\n",
            "Epoch 113/200\n",
            "28/28 [==============================] - 1s 35ms/step - loss: 1.0649 - accuracy: 0.7140 - val_loss: 1.0954 - val_accuracy: 0.7462\n",
            "Epoch 114/200\n",
            "28/28 [==============================] - 1s 34ms/step - loss: 1.0572 - accuracy: 0.7154 - val_loss: 1.0991 - val_accuracy: 0.7462\n",
            "Epoch 115/200\n",
            "28/28 [==============================] - 1s 35ms/step - loss: 1.0697 - accuracy: 0.7161 - val_loss: 1.0906 - val_accuracy: 0.7462\n",
            "Epoch 116/200\n",
            "28/28 [==============================] - 1s 34ms/step - loss: 1.0586 - accuracy: 0.7133 - val_loss: 1.0928 - val_accuracy: 0.7462\n",
            "Epoch 117/200\n",
            "28/28 [==============================] - 1s 39ms/step - loss: 1.0599 - accuracy: 0.7140 - val_loss: 1.0968 - val_accuracy: 0.7462\n",
            "Epoch 118/200\n",
            "28/28 [==============================] - 1s 34ms/step - loss: 1.0522 - accuracy: 0.7147 - val_loss: 1.0924 - val_accuracy: 0.7462\n",
            "Epoch 119/200\n",
            "28/28 [==============================] - 1s 35ms/step - loss: 1.0547 - accuracy: 0.7140 - val_loss: 1.0774 - val_accuracy: 0.7479\n",
            "Epoch 120/200\n",
            "28/28 [==============================] - 1s 33ms/step - loss: 1.0530 - accuracy: 0.7147 - val_loss: 1.0818 - val_accuracy: 0.7462\n",
            "Epoch 121/200\n",
            "28/28 [==============================] - 1s 40ms/step - loss: 1.0463 - accuracy: 0.7154 - val_loss: 1.0843 - val_accuracy: 0.7462\n",
            "Epoch 122/200\n",
            "28/28 [==============================] - 1s 35ms/step - loss: 1.0647 - accuracy: 0.7104 - val_loss: 1.0843 - val_accuracy: 0.7462\n",
            "Epoch 123/200\n",
            "28/28 [==============================] - 1s 33ms/step - loss: 1.0383 - accuracy: 0.7168 - val_loss: 1.0752 - val_accuracy: 0.7462\n",
            "Epoch 124/200\n",
            "28/28 [==============================] - 1s 40ms/step - loss: 1.0541 - accuracy: 0.7140 - val_loss: 1.0844 - val_accuracy: 0.7462\n",
            "Epoch 125/200\n",
            "28/28 [==============================] - 1s 34ms/step - loss: 1.0449 - accuracy: 0.7168 - val_loss: 1.0745 - val_accuracy: 0.7462\n",
            "Epoch 126/200\n",
            "28/28 [==============================] - 1s 34ms/step - loss: 1.0462 - accuracy: 0.7168 - val_loss: 1.0842 - val_accuracy: 0.7462\n",
            "Epoch 127/200\n",
            "28/28 [==============================] - 1s 34ms/step - loss: 1.0383 - accuracy: 0.7140 - val_loss: 1.0999 - val_accuracy: 0.7479\n",
            "Epoch 128/200\n",
            "28/28 [==============================] - 1s 35ms/step - loss: 1.0615 - accuracy: 0.7125 - val_loss: 1.0872 - val_accuracy: 0.7446\n",
            "Epoch 129/200\n",
            "28/28 [==============================] - 1s 34ms/step - loss: 1.0414 - accuracy: 0.7140 - val_loss: 1.0935 - val_accuracy: 0.7462\n",
            "Epoch 130/200\n",
            "28/28 [==============================] - 1s 33ms/step - loss: 1.0560 - accuracy: 0.7147 - val_loss: 1.0749 - val_accuracy: 0.7462\n",
            "Epoch 131/200\n",
            "28/28 [==============================] - 1s 35ms/step - loss: 1.0419 - accuracy: 0.7140 - val_loss: 1.0826 - val_accuracy: 0.7462\n",
            "Epoch 132/200\n",
            "28/28 [==============================] - 1s 34ms/step - loss: 1.0451 - accuracy: 0.7154 - val_loss: 1.0929 - val_accuracy: 0.7462\n",
            "Epoch 133/200\n",
            "28/28 [==============================] - 1s 35ms/step - loss: 1.0404 - accuracy: 0.7154 - val_loss: 1.0849 - val_accuracy: 0.7462\n",
            "Epoch 134/200\n",
            "28/28 [==============================] - 1s 34ms/step - loss: 1.0421 - accuracy: 0.7140 - val_loss: 1.0836 - val_accuracy: 0.7462\n",
            "Epoch 135/200\n",
            "28/28 [==============================] - 1s 40ms/step - loss: 1.0406 - accuracy: 0.7125 - val_loss: 1.0816 - val_accuracy: 0.7462\n",
            "Epoch 136/200\n",
            "28/28 [==============================] - 1s 34ms/step - loss: 1.0332 - accuracy: 0.7154 - val_loss: 1.0765 - val_accuracy: 0.7462\n",
            "Epoch 137/200\n",
            "28/28 [==============================] - 1s 43ms/step - loss: 1.0342 - accuracy: 0.7154 - val_loss: 1.0970 - val_accuracy: 0.7462\n",
            "Epoch 138/200\n",
            "28/28 [==============================] - 1s 37ms/step - loss: 1.0431 - accuracy: 0.7118 - val_loss: 1.0922 - val_accuracy: 0.7446\n",
            "Epoch 139/200\n",
            "28/28 [==============================] - 1s 41ms/step - loss: 1.0365 - accuracy: 0.7118 - val_loss: 1.0780 - val_accuracy: 0.7462\n",
            "Epoch 140/200\n",
            "28/28 [==============================] - 1s 41ms/step - loss: 1.0256 - accuracy: 0.7154 - val_loss: 1.0852 - val_accuracy: 0.7462\n",
            "Epoch 141/200\n",
            "28/28 [==============================] - 1s 36ms/step - loss: 1.0337 - accuracy: 0.7111 - val_loss: 1.0808 - val_accuracy: 0.7462\n",
            "Epoch 142/200\n",
            "28/28 [==============================] - 1s 36ms/step - loss: 1.0203 - accuracy: 0.7104 - val_loss: 1.0877 - val_accuracy: 0.7462\n",
            "Epoch 143/200\n",
            "28/28 [==============================] - 1s 37ms/step - loss: 1.0268 - accuracy: 0.7161 - val_loss: 1.0907 - val_accuracy: 0.7462\n",
            "Epoch 144/200\n",
            "28/28 [==============================] - 1s 37ms/step - loss: 1.0355 - accuracy: 0.7140 - val_loss: 1.0660 - val_accuracy: 0.7462\n",
            "Epoch 145/200\n",
            "28/28 [==============================] - 1s 36ms/step - loss: 1.0206 - accuracy: 0.7154 - val_loss: 1.0765 - val_accuracy: 0.7462\n",
            "Epoch 146/200\n",
            "28/28 [==============================] - 1s 37ms/step - loss: 1.0371 - accuracy: 0.7161 - val_loss: 1.0845 - val_accuracy: 0.7462\n",
            "Epoch 147/200\n",
            "28/28 [==============================] - 1s 36ms/step - loss: 1.0193 - accuracy: 0.7197 - val_loss: 1.0824 - val_accuracy: 0.7462\n",
            "Epoch 148/200\n",
            "28/28 [==============================] - 1s 35ms/step - loss: 1.0283 - accuracy: 0.7154 - val_loss: 1.0777 - val_accuracy: 0.7446\n",
            "Epoch 149/200\n",
            "28/28 [==============================] - 1s 35ms/step - loss: 1.0297 - accuracy: 0.7147 - val_loss: 1.0834 - val_accuracy: 0.7462\n",
            "Epoch 150/200\n",
            "28/28 [==============================] - 1s 34ms/step - loss: 1.0254 - accuracy: 0.7154 - val_loss: 1.0754 - val_accuracy: 0.7462\n",
            "Epoch 151/200\n",
            "28/28 [==============================] - 1s 37ms/step - loss: 1.0203 - accuracy: 0.7147 - val_loss: 1.0741 - val_accuracy: 0.7462\n",
            "Epoch 152/200\n",
            "28/28 [==============================] - 1s 40ms/step - loss: 1.0145 - accuracy: 0.7154 - val_loss: 1.0725 - val_accuracy: 0.7462\n",
            "Epoch 153/200\n",
            "28/28 [==============================] - 1s 39ms/step - loss: 1.0211 - accuracy: 0.7147 - val_loss: 1.0697 - val_accuracy: 0.7462\n",
            "Epoch 154/200\n",
            "28/28 [==============================] - 1s 36ms/step - loss: 1.0172 - accuracy: 0.7140 - val_loss: 1.0813 - val_accuracy: 0.7429\n",
            "Epoch 155/200\n",
            "28/28 [==============================] - 1s 38ms/step - loss: 1.0259 - accuracy: 0.7147 - val_loss: 1.0775 - val_accuracy: 0.7462\n",
            "Epoch 156/200\n",
            "28/28 [==============================] - 1s 34ms/step - loss: 1.0160 - accuracy: 0.7118 - val_loss: 1.0715 - val_accuracy: 0.7462\n",
            "Epoch 157/200\n",
            "28/28 [==============================] - 1s 34ms/step - loss: 1.0198 - accuracy: 0.7140 - val_loss: 1.0724 - val_accuracy: 0.7462\n",
            "Epoch 158/200\n",
            "28/28 [==============================] - 1s 34ms/step - loss: 1.0125 - accuracy: 0.7140 - val_loss: 1.0724 - val_accuracy: 0.7462\n",
            "Epoch 159/200\n",
            "28/28 [==============================] - 1s 41ms/step - loss: 1.0193 - accuracy: 0.7097 - val_loss: 1.0804 - val_accuracy: 0.7462\n",
            "Epoch 160/200\n",
            "28/28 [==============================] - 1s 42ms/step - loss: 1.0148 - accuracy: 0.7204 - val_loss: 1.0926 - val_accuracy: 0.7446\n",
            "Epoch 161/200\n",
            "28/28 [==============================] - 1s 33ms/step - loss: 1.0252 - accuracy: 0.7168 - val_loss: 1.0824 - val_accuracy: 0.7462\n",
            "Epoch 162/200\n",
            "28/28 [==============================] - 1s 34ms/step - loss: 1.0205 - accuracy: 0.7140 - val_loss: 1.0913 - val_accuracy: 0.7429\n",
            "Epoch 163/200\n",
            "28/28 [==============================] - 1s 34ms/step - loss: 1.0150 - accuracy: 0.7147 - val_loss: 1.0873 - val_accuracy: 0.7462\n",
            "Epoch 164/200\n",
            "28/28 [==============================] - 1s 33ms/step - loss: 1.0236 - accuracy: 0.7125 - val_loss: 1.1206 - val_accuracy: 0.7462\n",
            "Epoch 165/200\n",
            "28/28 [==============================] - 1s 41ms/step - loss: 1.0259 - accuracy: 0.7133 - val_loss: 1.0878 - val_accuracy: 0.7462\n",
            "Epoch 166/200\n",
            "28/28 [==============================] - 1s 33ms/step - loss: 1.0182 - accuracy: 0.7147 - val_loss: 1.0805 - val_accuracy: 0.7462\n",
            "Epoch 167/200\n",
            "28/28 [==============================] - 1s 34ms/step - loss: 1.0035 - accuracy: 0.7140 - val_loss: 1.0760 - val_accuracy: 0.7462\n",
            "Epoch 168/200\n",
            "28/28 [==============================] - 1s 34ms/step - loss: 1.0193 - accuracy: 0.7118 - val_loss: 1.0882 - val_accuracy: 0.7462\n",
            "Epoch 169/200\n",
            "28/28 [==============================] - 1s 34ms/step - loss: 1.0126 - accuracy: 0.7111 - val_loss: 1.0852 - val_accuracy: 0.7479\n",
            "Epoch 170/200\n",
            "28/28 [==============================] - 1s 33ms/step - loss: 1.0120 - accuracy: 0.7104 - val_loss: 1.1102 - val_accuracy: 0.7462\n",
            "Epoch 171/200\n",
            "28/28 [==============================] - 1s 33ms/step - loss: 1.0161 - accuracy: 0.7176 - val_loss: 1.0879 - val_accuracy: 0.7462\n",
            "Epoch 172/200\n",
            "28/28 [==============================] - 1s 34ms/step - loss: 1.0134 - accuracy: 0.7125 - val_loss: 1.0718 - val_accuracy: 0.7462\n",
            "Epoch 173/200\n",
            "28/28 [==============================] - 1s 36ms/step - loss: 1.0110 - accuracy: 0.7125 - val_loss: 1.0851 - val_accuracy: 0.7479\n",
            "Epoch 174/200\n",
            "28/28 [==============================] - 1s 35ms/step - loss: 1.0094 - accuracy: 0.7118 - val_loss: 1.0759 - val_accuracy: 0.7462\n",
            "Epoch 175/200\n",
            "28/28 [==============================] - 1s 35ms/step - loss: 1.0139 - accuracy: 0.7154 - val_loss: 1.0764 - val_accuracy: 0.7462\n",
            "Epoch 176/200\n",
            "28/28 [==============================] - 1s 38ms/step - loss: 1.0209 - accuracy: 0.7133 - val_loss: 1.1038 - val_accuracy: 0.7429\n",
            "Epoch 177/200\n",
            "28/28 [==============================] - 1s 44ms/step - loss: 1.0118 - accuracy: 0.7140 - val_loss: 1.0863 - val_accuracy: 0.7462\n",
            "Epoch 178/200\n",
            "28/28 [==============================] - 1s 35ms/step - loss: 1.0139 - accuracy: 0.7133 - val_loss: 1.0922 - val_accuracy: 0.7462\n",
            "Epoch 179/200\n",
            "28/28 [==============================] - 1s 35ms/step - loss: 1.0177 - accuracy: 0.7147 - val_loss: 1.0905 - val_accuracy: 0.7462\n",
            "Epoch 180/200\n",
            "28/28 [==============================] - 1s 41ms/step - loss: 1.0059 - accuracy: 0.7176 - val_loss: 1.0877 - val_accuracy: 0.7462\n",
            "Epoch 181/200\n",
            "28/28 [==============================] - 1s 35ms/step - loss: 1.0104 - accuracy: 0.7140 - val_loss: 1.0736 - val_accuracy: 0.7446\n",
            "Epoch 182/200\n",
            "28/28 [==============================] - 1s 40ms/step - loss: 1.0051 - accuracy: 0.7125 - val_loss: 1.1241 - val_accuracy: 0.7446\n",
            "Epoch 183/200\n",
            "28/28 [==============================] - 1s 34ms/step - loss: 1.0161 - accuracy: 0.7154 - val_loss: 1.0888 - val_accuracy: 0.7446\n",
            "Epoch 184/200\n",
            "28/28 [==============================] - 1s 34ms/step - loss: 1.0083 - accuracy: 0.7111 - val_loss: 1.0910 - val_accuracy: 0.7479\n",
            "Epoch 185/200\n",
            "28/28 [==============================] - 1s 34ms/step - loss: 1.0112 - accuracy: 0.7147 - val_loss: 1.0945 - val_accuracy: 0.7479\n",
            "Epoch 186/200\n",
            "28/28 [==============================] - 1s 34ms/step - loss: 1.0055 - accuracy: 0.7176 - val_loss: 1.0964 - val_accuracy: 0.7462\n",
            "Epoch 187/200\n",
            "28/28 [==============================] - 1s 40ms/step - loss: 1.0126 - accuracy: 0.7168 - val_loss: 1.0920 - val_accuracy: 0.7462\n",
            "Epoch 188/200\n",
            "28/28 [==============================] - 1s 40ms/step - loss: 1.0145 - accuracy: 0.7118 - val_loss: 1.0898 - val_accuracy: 0.7462\n",
            "Epoch 189/200\n",
            "28/28 [==============================] - 1s 34ms/step - loss: 1.0149 - accuracy: 0.7168 - val_loss: 1.0848 - val_accuracy: 0.7462\n",
            "Epoch 190/200\n",
            "28/28 [==============================] - 1s 34ms/step - loss: 0.9945 - accuracy: 0.7147 - val_loss: 1.0853 - val_accuracy: 0.7462\n",
            "Epoch 191/200\n",
            "28/28 [==============================] - 1s 33ms/step - loss: 1.0117 - accuracy: 0.7104 - val_loss: 1.0925 - val_accuracy: 0.7446\n",
            "Epoch 192/200\n",
            "28/28 [==============================] - 1s 36ms/step - loss: 1.0127 - accuracy: 0.7118 - val_loss: 1.0904 - val_accuracy: 0.7479\n",
            "Epoch 193/200\n",
            "28/28 [==============================] - 1s 35ms/step - loss: 1.0013 - accuracy: 0.7211 - val_loss: 1.0907 - val_accuracy: 0.7429\n",
            "Epoch 194/200\n",
            "28/28 [==============================] - 1s 39ms/step - loss: 1.0076 - accuracy: 0.7147 - val_loss: 1.0786 - val_accuracy: 0.7479\n",
            "Epoch 195/200\n",
            "28/28 [==============================] - 1s 37ms/step - loss: 0.9995 - accuracy: 0.7161 - val_loss: 1.0979 - val_accuracy: 0.7462\n",
            "Epoch 196/200\n",
            "28/28 [==============================] - 1s 39ms/step - loss: 1.0002 - accuracy: 0.7147 - val_loss: 1.0898 - val_accuracy: 0.7429\n",
            "Epoch 197/200\n",
            "28/28 [==============================] - 1s 34ms/step - loss: 0.9990 - accuracy: 0.7133 - val_loss: 1.0988 - val_accuracy: 0.7446\n",
            "Epoch 198/200\n",
            "28/28 [==============================] - 1s 33ms/step - loss: 0.9942 - accuracy: 0.7154 - val_loss: 1.0938 - val_accuracy: 0.7396\n",
            "Epoch 199/200\n",
            "28/28 [==============================] - 1s 40ms/step - loss: 1.0031 - accuracy: 0.7247 - val_loss: 1.1129 - val_accuracy: 0.7429\n",
            "Epoch 200/200\n",
            "28/28 [==============================] - 1s 37ms/step - loss: 1.0023 - accuracy: 0.7168 - val_loss: 1.0956 - val_accuracy: 0.7479\n"
          ],
          "name": "stdout"
        }
      ]
    },
    {
      "cell_type": "code",
      "metadata": {
        "id": "bdqLNn6Jm4Kn",
        "colab": {
          "base_uri": "https://localhost:8080/"
        },
        "outputId": "7c933877-7bb0-47b5-adc8-8a83fce9982d"
      },
      "source": [
        "y_pred = model.predict(X_test)\n",
        "y_test_ = np.argmax(y_test, axis = 1)\n",
        "\n",
        "print(accuracy_score(y_pred, y_test_))"
      ],
      "execution_count": null,
      "outputs": [
        {
          "output_type": "stream",
          "text": [
            "WARNING:tensorflow:From /usr/local/lib/python3.6/dist-packages/tensorflow/python/keras/wrappers/scikit_learn.py:241: Sequential.predict_classes (from tensorflow.python.keras.engine.sequential) is deprecated and will be removed after 2021-01-01.\n",
            "Instructions for updating:\n",
            "Please use instead:* `np.argmax(model.predict(x), axis=-1)`,   if your model does multi-class classification   (e.g. if it uses a `softmax` last-layer activation).* `(model.predict(x) > 0.5).astype(\"int32\")`,   if your model does binary classification   (e.g. if it uses a `sigmoid` last-layer activation).\n",
            "12/12 [==============================] - 0s 4ms/step\n",
            "0.7479131886477463\n"
          ],
          "name": "stdout"
        }
      ]
    },
    {
      "cell_type": "code",
      "metadata": {
        "id": "vjpF_q4qhKP-",
        "colab": {
          "base_uri": "https://localhost:8080/",
          "height": 295
        },
        "outputId": "64b16366-e0ab-4613-a190-9a570f40bdc5"
      },
      "source": [
        "# Plot history: Categorical crossentropy & Accuracy\n",
        "import matplotlib.pyplot as plt\n",
        "\n",
        "plt.plot(history.history['loss'], label='Categorical crossentropy (training data)')\n",
        "plt.plot(history.history['val_loss'], label='Categorical crossentropy (validation data)')\n",
        "plt.plot(history.history['accuracy'], label='Accuracy (training data)')\n",
        "plt.plot(history.history['val_accuracy'], label='Accuracy (validation data)')\n",
        "plt.title('Model performance for SimpleRNN example')\n",
        "plt.ylabel('Loss value')\n",
        "plt.xlabel('No. epoch')\n",
        "plt.legend(loc=\"upper left\")\n",
        "plt.show()"
      ],
      "execution_count": null,
      "outputs": [
        {
          "output_type": "display_data",
          "data": {
            "image/png": "[encoded data removed]",
            "text/plain": [
              "<Figure size 432x288 with 1 Axes>"
            ]
          },
          "metadata": {
            "tags": [],
            "needs_background": "light"
          }
        }
      ]
    },
    {
      "cell_type": "code",
      "metadata": {
        "id": "YrIn0oX3h6Nn"
      },
      "source": [
        ""
      ],
      "execution_count": null,
      "outputs": []
    }
  ]
}