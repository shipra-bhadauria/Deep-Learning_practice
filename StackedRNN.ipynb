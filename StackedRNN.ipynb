{
  "nbformat": 4,
  "nbformat_minor": 0,
  "metadata": {
    "colab": {
      "name": "StackedRNN.ipynb",
      "provenance": [],
      "include_colab_link": true
    },
    "kernelspec": {
      "name": "python3",
      "display_name": "Python 3"
    }
  },
  "cells": [
    {
      "cell_type": "markdown",
      "metadata": {
        "id": "view-in-github",
        "colab_type": "text"
      },
      "source": [
        "<a href=\"https://colab.research.google.com/github/shipra-bhadauria/Deep-Learning_practice/blob/main/StackedRNN.ipynb\" target=\"_parent\"><img src=\"https://colab.research.google.com/assets/colab-badge.svg\" alt=\"Open In Colab\"/></a>"
      ]
    },
    {
      "cell_type": "code",
      "metadata": {
        "id": "EE3oA2fPFMXl"
      },
      "source": [
        "import numpy as np\n",
        "\n",
        "from sklearn.metrics import accuracy_score\n",
        "from keras.datasets import reuters\n",
        "from keras.preprocessing.sequence import pad_sequences\n",
        "from keras.utils import to_categorical\n",
        "from keras.models import Sequential\n",
        "from keras.layers import Dense, SimpleRNN, Activation,Dropout,Embedding\n",
        "from keras import optimizers\n",
        "from keras.wrappers.scikit_learn import KerasClassifier"
      ],
      "execution_count": null,
      "outputs": []
    },
    {
      "cell_type": "code",
      "metadata": {
        "id": "RevZML0QFz6b"
      },
      "source": [
        "# parameters for data load\n",
        "num_words = 30000\n",
        "maxlen = 50\n",
        "test_split = 0.3"
      ],
      "execution_count": null,
      "outputs": []
    },
    {
      "cell_type": "code",
      "metadata": {
        "id": "jIjtgAa0F57F",
        "colab": {
          "base_uri": "https://localhost:8080/"
        },
        "outputId": "dd06e9e2-ad74-4389-cba9-542d59d59d30"
      },
      "source": [
        "(X_train, y_train), (X_test, y_test) = reuters.load_data(num_words = num_words, maxlen = maxlen, test_split = test_split)"
      ],
      "execution_count": null,
      "outputs": [
        {
          "output_type": "stream",
          "text": [
            "/usr/local/lib/python3.6/dist-packages/tensorflow/python/keras/datasets/reuters.py:148: VisibleDeprecationWarning: Creating an ndarray from ragged nested sequences (which is a list-or-tuple of lists-or-tuples-or ndarrays with different lengths or shapes) is deprecated. If you meant to do this, you must specify 'dtype=object' when creating the ndarray\n",
            "  x_train, y_train = np.array(xs[:idx]), np.array(labels[:idx])\n",
            "/usr/local/lib/python3.6/dist-packages/tensorflow/python/keras/datasets/reuters.py:149: VisibleDeprecationWarning: Creating an ndarray from ragged nested sequences (which is a list-or-tuple of lists-or-tuples-or ndarrays with different lengths or shapes) is deprecated. If you meant to do this, you must specify 'dtype=object' when creating the ndarray\n",
            "  x_test, y_test = np.array(xs[idx:]), np.array(labels[idx:])\n"
          ],
          "name": "stderr"
        }
      ]
    },
    {
      "cell_type": "code",
      "metadata": {
        "id": "HncwBwzIIiN6",
        "colab": {
          "base_uri": "https://localhost:8080/"
        },
        "outputId": "80a46493-66b1-46a5-a0a8-f0c93a907545"
      },
      "source": [
        "y_train.shape"
      ],
      "execution_count": null,
      "outputs": [
        {
          "output_type": "execute_result",
          "data": {
            "text/plain": [
              "(1395,)"
            ]
          },
          "metadata": {
            "tags": []
          },
          "execution_count": 39
        }
      ]
    },
    {
      "cell_type": "code",
      "metadata": {
        "id": "3ZkyWLsXLmjV",
        "colab": {
          "base_uri": "https://localhost:8080/"
        },
        "outputId": "d26a8ff5-daee-4405-9f51-a5977533533d"
      },
      "source": [
        "y_train[0]"
      ],
      "execution_count": null,
      "outputs": [
        {
          "output_type": "execute_result",
          "data": {
            "text/plain": [
              "3"
            ]
          },
          "metadata": {
            "tags": []
          },
          "execution_count": 40
        }
      ]
    },
    {
      "cell_type": "code",
      "metadata": {
        "id": "YN2o99jDF9pk"
      },
      "source": [
        "# pad the sequences with zeros \n",
        "# padding parameter is set to 'post' => 0's are appended to end of sequences\n",
        "X_train = pad_sequences(X_train, padding = 'post')\n",
        "X_test = pad_sequences(X_test, padding = 'post')\n"
      ],
      "execution_count": null,
      "outputs": []
    },
    {
      "cell_type": "code",
      "metadata": {
        "id": "xSNNa7fw4_sN",
        "colab": {
          "base_uri": "https://localhost:8080/"
        },
        "outputId": "966c78c1-ad1d-4ed5-a2a8-df533b65bd58"
      },
      "source": [
        "X_train[1]"
      ],
      "execution_count": null,
      "outputs": [
        {
          "output_type": "execute_result",
          "data": {
            "text/plain": [
              "array([  1, 486, 341, 785,  26,  14, 482,  26, 255, 606, 252,  83, 146,\n",
              "        91, 102,  17,  12,   0,   0,   0,   0,   0,   0,   0,   0,   0,\n",
              "         0,   0,   0,   0,   0,   0,   0,   0,   0,   0,   0,   0,   0,\n",
              "         0,   0,   0,   0,   0,   0,   0,   0,   0,   0], dtype=int32)"
            ]
          },
          "metadata": {
            "tags": []
          },
          "execution_count": 42
        }
      ]
    },
    {
      "cell_type": "code",
      "metadata": {
        "id": "F-iQjDoMGB6c"
      },
      "source": [
        "X_train = np.array(X_train).reshape((X_train.shape[0], X_train.shape[1], 1))\n",
        "X_test = np.array(X_test).reshape((X_test.shape[0], X_test.shape[1], 1))"
      ],
      "execution_count": null,
      "outputs": []
    },
    {
      "cell_type": "code",
      "metadata": {
        "id": "jkZBtSp5I2pE",
        "colab": {
          "base_uri": "https://localhost:8080/"
        },
        "outputId": "cadc79e4-c7ee-4772-8bca-7b278ee72424"
      },
      "source": [
        "print(X_train.shape)\n",
        "print(X_test.shape)"
      ],
      "execution_count": null,
      "outputs": [
        {
          "output_type": "stream",
          "text": [
            "(1395, 49, 1)\n",
            "(599, 49, 1)\n"
          ],
          "name": "stdout"
        }
      ]
    },
    {
      "cell_type": "code",
      "metadata": {
        "id": "vBI8FW9sGFp4"
      },
      "source": [
        "y_data = np.concatenate((y_train, y_test))\n",
        "y_data = to_categorical(y_data)\n",
        "y_train = y_data[:1395]\n",
        "y_test = y_data[1395:]"
      ],
      "execution_count": null,
      "outputs": []
    },
    {
      "cell_type": "code",
      "metadata": {
        "id": "wXjMu2_6HCZc",
        "colab": {
          "base_uri": "https://localhost:8080/"
        },
        "outputId": "73924018-9ee6-4dfd-db05-3dd34ce2e683"
      },
      "source": [
        "print(y_train.shape)\n",
        "print(y_test.shape)"
      ],
      "execution_count": null,
      "outputs": [
        {
          "output_type": "stream",
          "text": [
            "(1395, 46)\n",
            "(599, 46)\n"
          ],
          "name": "stdout"
        }
      ]
    },
    {
      "cell_type": "code",
      "metadata": {
        "id": "9taEPlL2GIvv"
      },
      "source": [
        "def stacked_vanilla_rnn():\n",
        "    model = Sequential()\n",
        "    model.add(Embedding(input_dim=num_words, output_dim=8))\n",
        "    model.add(SimpleRNN(50,return_sequences = True))   # return_sequences parameter has to be set True to stack\n",
        "    model.add(Dropout(0.3))\n",
        "    model.add(SimpleRNN(25, return_sequences = False))\n",
        "    model.add(Dense(46))\n",
        "    model.add(Activation('softmax'))\n",
        "    \n",
        "    adam = optimizers.Adam(lr = 0.001) ## lr= learinng rate\n",
        "    model.compile(loss = 'categorical_crossentropy', optimizer = adam, metrics = ['accuracy'])\n",
        "    \n",
        "    return model"
      ],
      "execution_count": null,
      "outputs": []
    },
    {
      "cell_type": "code",
      "metadata": {
        "id": "PQ_cRjtfGwi2"
      },
      "source": [
        "model = KerasClassifier(build_fn = stacked_vanilla_rnn, epochs = 50, batch_size = 50, verbose = 1,validation_data=(X_test,y_test))\n"
      ],
      "execution_count": null,
      "outputs": []
    },
    {
      "cell_type": "code",
      "metadata": {
        "colab": {
          "base_uri": "https://localhost:8080/"
        },
        "id": "3Pz1dFsFhFQU",
        "outputId": "fc5eb978-5cc5-4159-d79d-0251edb49305"
      },
      "source": [
        "model=stacked_vanilla_rnn()\n",
        "model.summary()"
      ],
      "execution_count": null,
      "outputs": [
        {
          "output_type": "stream",
          "text": [
            "Model: \"sequential_3\"\n",
            "_________________________________________________________________\n",
            "Layer (type)                 Output Shape              Param #   \n",
            "=================================================================\n",
            "embedding_2 (Embedding)      (None, None, 8)           240000    \n",
            "_________________________________________________________________\n",
            "simple_rnn_6 (SimpleRNN)     (None, None, 50)          2950      \n",
            "_________________________________________________________________\n",
            "dropout_3 (Dropout)          (None, None, 50)          0         \n",
            "_________________________________________________________________\n",
            "simple_rnn_7 (SimpleRNN)     (None, 50)                5050      \n",
            "_________________________________________________________________\n",
            "dense_3 (Dense)              (None, 46)                2346      \n",
            "_________________________________________________________________\n",
            "activation_3 (Activation)    (None, 46)                0         \n",
            "=================================================================\n",
            "Total params: 250,346\n",
            "Trainable params: 250,346\n",
            "Non-trainable params: 0\n",
            "_________________________________________________________________\n"
          ],
          "name": "stdout"
        }
      ]
    },
    {
      "cell_type": "code",
      "metadata": {
        "id": "L7dLrHG8Gzgx",
        "colab": {
          "base_uri": "https://localhost:8080/"
        },
        "outputId": "e539859a-c2bf-4e6e-a23f-ada6d187f64e"
      },
      "source": [
        "history=model.fit(X_train, y_train)"
      ],
      "execution_count": null,
      "outputs": [
        {
          "output_type": "stream",
          "text": [
            "Epoch 1/50\n",
            "28/28 [==============================] - 3s 46ms/step - loss: 2.7330 - accuracy: 0.4834 - val_loss: 1.1092 - val_accuracy: 0.7513\n",
            "Epoch 2/50\n",
            "28/28 [==============================] - 1s 33ms/step - loss: 1.0352 - accuracy: 0.7716 - val_loss: 0.9040 - val_accuracy: 0.8013\n",
            "Epoch 3/50\n",
            "28/28 [==============================] - 1s 34ms/step - loss: 0.7236 - accuracy: 0.8434 - val_loss: 0.8557 - val_accuracy: 0.8164\n",
            "Epoch 4/50\n",
            "28/28 [==============================] - 1s 34ms/step - loss: 0.6910 - accuracy: 0.8491 - val_loss: 0.8556 - val_accuracy: 0.8164\n",
            "Epoch 5/50\n",
            "28/28 [==============================] - 1s 34ms/step - loss: 0.5483 - accuracy: 0.8920 - val_loss: 0.8930 - val_accuracy: 0.8063\n",
            "Epoch 6/50\n",
            "28/28 [==============================] - 1s 34ms/step - loss: 0.5354 - accuracy: 0.8792 - val_loss: 0.9122 - val_accuracy: 0.8013\n",
            "Epoch 7/50\n",
            "28/28 [==============================] - 1s 34ms/step - loss: 0.5017 - accuracy: 0.8865 - val_loss: 0.9001 - val_accuracy: 0.8063\n",
            "Epoch 8/50\n",
            "28/28 [==============================] - 1s 34ms/step - loss: 0.4609 - accuracy: 0.8897 - val_loss: 0.9188 - val_accuracy: 0.8063\n",
            "Epoch 9/50\n",
            "28/28 [==============================] - 1s 34ms/step - loss: 0.4284 - accuracy: 0.9021 - val_loss: 0.9241 - val_accuracy: 0.8063\n",
            "Epoch 10/50\n",
            "28/28 [==============================] - 1s 34ms/step - loss: 0.4175 - accuracy: 0.8959 - val_loss: 0.9227 - val_accuracy: 0.8063\n",
            "Epoch 11/50\n",
            "28/28 [==============================] - 1s 34ms/step - loss: 0.4324 - accuracy: 0.8950 - val_loss: 0.9705 - val_accuracy: 0.7947\n",
            "Epoch 12/50\n",
            "28/28 [==============================] - 1s 34ms/step - loss: 0.3816 - accuracy: 0.9086 - val_loss: 0.9685 - val_accuracy: 0.8047\n",
            "Epoch 13/50\n",
            "28/28 [==============================] - 1s 34ms/step - loss: 0.3754 - accuracy: 0.9070 - val_loss: 0.9727 - val_accuracy: 0.7997\n",
            "Epoch 14/50\n",
            "28/28 [==============================] - 1s 34ms/step - loss: 0.3901 - accuracy: 0.9000 - val_loss: 0.9923 - val_accuracy: 0.8030\n",
            "Epoch 15/50\n",
            "28/28 [==============================] - 1s 34ms/step - loss: 0.3135 - accuracy: 0.9183 - val_loss: 0.9744 - val_accuracy: 0.7997\n",
            "Epoch 16/50\n",
            "28/28 [==============================] - 1s 40ms/step - loss: 0.3573 - accuracy: 0.8997 - val_loss: 1.0094 - val_accuracy: 0.8097\n",
            "Epoch 17/50\n",
            "28/28 [==============================] - 1s 33ms/step - loss: 0.3755 - accuracy: 0.9010 - val_loss: 1.0125 - val_accuracy: 0.8030\n",
            "Epoch 18/50\n",
            "28/28 [==============================] - 1s 34ms/step - loss: 0.3236 - accuracy: 0.9125 - val_loss: 0.9757 - val_accuracy: 0.8147\n",
            "Epoch 19/50\n",
            "28/28 [==============================] - 1s 33ms/step - loss: 0.3258 - accuracy: 0.9126 - val_loss: 1.0372 - val_accuracy: 0.8013\n",
            "Epoch 20/50\n",
            "28/28 [==============================] - 1s 35ms/step - loss: 0.3097 - accuracy: 0.9168 - val_loss: 1.0183 - val_accuracy: 0.8047\n",
            "Epoch 21/50\n",
            "28/28 [==============================] - 1s 33ms/step - loss: 0.3865 - accuracy: 0.8923 - val_loss: 1.0142 - val_accuracy: 0.8080\n",
            "Epoch 22/50\n",
            "28/28 [==============================] - 1s 34ms/step - loss: 0.3163 - accuracy: 0.9089 - val_loss: 1.0516 - val_accuracy: 0.8080\n",
            "Epoch 23/50\n",
            "28/28 [==============================] - 1s 34ms/step - loss: 0.2838 - accuracy: 0.9316 - val_loss: 1.0274 - val_accuracy: 0.7863\n",
            "Epoch 24/50\n",
            "28/28 [==============================] - 1s 34ms/step - loss: 0.3116 - accuracy: 0.9072 - val_loss: 1.1661 - val_accuracy: 0.7546\n",
            "Epoch 25/50\n",
            "28/28 [==============================] - 1s 33ms/step - loss: 0.3076 - accuracy: 0.9160 - val_loss: 1.0685 - val_accuracy: 0.7997\n",
            "Epoch 26/50\n",
            "28/28 [==============================] - 1s 35ms/step - loss: 0.2984 - accuracy: 0.9227 - val_loss: 1.0662 - val_accuracy: 0.7980\n",
            "Epoch 27/50\n",
            "28/28 [==============================] - 1s 34ms/step - loss: 0.2965 - accuracy: 0.9204 - val_loss: 1.0464 - val_accuracy: 0.8030\n",
            "Epoch 28/50\n",
            "28/28 [==============================] - 1s 34ms/step - loss: 0.2847 - accuracy: 0.9275 - val_loss: 1.0861 - val_accuracy: 0.8030\n",
            "Epoch 29/50\n",
            "28/28 [==============================] - 1s 35ms/step - loss: 0.2984 - accuracy: 0.9285 - val_loss: 1.0590 - val_accuracy: 0.7780\n",
            "Epoch 30/50\n",
            "28/28 [==============================] - 1s 34ms/step - loss: 0.2632 - accuracy: 0.9338 - val_loss: 1.0981 - val_accuracy: 0.7930\n",
            "Epoch 31/50\n",
            "28/28 [==============================] - 1s 35ms/step - loss: 0.2833 - accuracy: 0.9254 - val_loss: 1.0347 - val_accuracy: 0.8030\n",
            "Epoch 32/50\n",
            "28/28 [==============================] - 1s 34ms/step - loss: 0.2695 - accuracy: 0.9315 - val_loss: 1.0896 - val_accuracy: 0.7846\n",
            "Epoch 33/50\n",
            "28/28 [==============================] - 1s 34ms/step - loss: 0.2183 - accuracy: 0.9495 - val_loss: 1.0581 - val_accuracy: 0.8030\n",
            "Epoch 34/50\n",
            "28/28 [==============================] - 1s 35ms/step - loss: 0.2482 - accuracy: 0.9362 - val_loss: 1.0593 - val_accuracy: 0.7963\n",
            "Epoch 35/50\n",
            "28/28 [==============================] - 1s 34ms/step - loss: 0.2554 - accuracy: 0.9395 - val_loss: 1.2135 - val_accuracy: 0.7679\n",
            "Epoch 36/50\n",
            "28/28 [==============================] - 1s 34ms/step - loss: 0.2311 - accuracy: 0.9465 - val_loss: 1.0962 - val_accuracy: 0.8013\n",
            "Epoch 37/50\n",
            "28/28 [==============================] - 1s 35ms/step - loss: 0.2185 - accuracy: 0.9483 - val_loss: 1.1522 - val_accuracy: 0.7863\n",
            "Epoch 38/50\n",
            "28/28 [==============================] - 1s 34ms/step - loss: 0.1859 - accuracy: 0.9561 - val_loss: 1.0478 - val_accuracy: 0.7947\n",
            "Epoch 39/50\n",
            "28/28 [==============================] - 1s 34ms/step - loss: 0.1920 - accuracy: 0.9493 - val_loss: 1.0948 - val_accuracy: 0.8114\n",
            "Epoch 40/50\n",
            "28/28 [==============================] - 1s 34ms/step - loss: 0.1770 - accuracy: 0.9521 - val_loss: 1.1047 - val_accuracy: 0.8147\n",
            "Epoch 41/50\n",
            "28/28 [==============================] - 1s 34ms/step - loss: 0.1531 - accuracy: 0.9591 - val_loss: 1.1326 - val_accuracy: 0.8013\n",
            "Epoch 42/50\n",
            "28/28 [==============================] - 1s 34ms/step - loss: 0.1872 - accuracy: 0.9561 - val_loss: 1.0566 - val_accuracy: 0.8264\n",
            "Epoch 43/50\n",
            "28/28 [==============================] - 1s 34ms/step - loss: 0.1579 - accuracy: 0.9568 - val_loss: 1.0814 - val_accuracy: 0.8047\n",
            "Epoch 44/50\n",
            "28/28 [==============================] - 1s 35ms/step - loss: 0.1363 - accuracy: 0.9654 - val_loss: 1.0387 - val_accuracy: 0.8130\n",
            "Epoch 45/50\n",
            "28/28 [==============================] - 1s 34ms/step - loss: 0.1587 - accuracy: 0.9633 - val_loss: 1.0298 - val_accuracy: 0.8097\n",
            "Epoch 46/50\n",
            "28/28 [==============================] - 1s 34ms/step - loss: 0.1856 - accuracy: 0.9615 - val_loss: 1.1527 - val_accuracy: 0.7997\n",
            "Epoch 47/50\n",
            "28/28 [==============================] - 1s 35ms/step - loss: 0.1497 - accuracy: 0.9599 - val_loss: 1.0900 - val_accuracy: 0.8180\n",
            "Epoch 48/50\n",
            "28/28 [==============================] - 1s 35ms/step - loss: 0.1359 - accuracy: 0.9728 - val_loss: 1.1564 - val_accuracy: 0.7997\n",
            "Epoch 49/50\n",
            "28/28 [==============================] - 1s 35ms/step - loss: 0.1081 - accuracy: 0.9770 - val_loss: 1.1351 - val_accuracy: 0.8164\n",
            "Epoch 50/50\n",
            "28/28 [==============================] - 1s 34ms/step - loss: 0.1692 - accuracy: 0.9580 - val_loss: 1.1191 - val_accuracy: 0.8130\n"
          ],
          "name": "stdout"
        }
      ]
    },
    {
      "cell_type": "code",
      "metadata": {
        "id": "_U-R0nLYHuHg",
        "colab": {
          "base_uri": "https://localhost:8080/"
        },
        "outputId": "3cd25155-7e01-4c65-ca74-9dd2195afb7e"
      },
      "source": [
        "y_pred = model.predict(X_test)\n",
        "y_test_ = np.argmax(y_test, axis = 1)"
      ],
      "execution_count": null,
      "outputs": [
        {
          "output_type": "stream",
          "text": [
            "/usr/local/lib/python3.6/dist-packages/tensorflow/python/keras/engine/sequential.py:450: UserWarning: `model.predict_classes()` is deprecated and will be removed after 2021-01-01. Please use instead:* `np.argmax(model.predict(x), axis=-1)`,   if your model does multi-class classification   (e.g. if it uses a `softmax` last-layer activation).* `(model.predict(x) > 0.5).astype(\"int32\")`,   if your model does binary classification   (e.g. if it uses a `sigmoid` last-layer activation).\n",
            "  warnings.warn('`model.predict_classes()` is deprecated and '\n"
          ],
          "name": "stderr"
        },
        {
          "output_type": "stream",
          "text": [
            "12/12 [==============================] - 0s 7ms/step\n"
          ],
          "name": "stdout"
        }
      ]
    },
    {
      "cell_type": "code",
      "metadata": {
        "id": "PLpvA19tMVZD",
        "colab": {
          "base_uri": "https://localhost:8080/"
        },
        "outputId": "9bcdb943-3033-4e6a-9b56-dfa42c4852f8"
      },
      "source": [
        "print(accuracy_score(y_pred, y_test_))"
      ],
      "execution_count": null,
      "outputs": [
        {
          "output_type": "stream",
          "text": [
            "0.7529215358931552\n"
          ],
          "name": "stdout"
        }
      ]
    },
    {
      "cell_type": "code",
      "metadata": {
        "id": "7liUm9m3MZ2w",
        "colab": {
          "base_uri": "https://localhost:8080/",
          "height": 295
        },
        "outputId": "361e22df-af32-4b09-c8f9-b5a292327b29"
      },
      "source": [
        "# Plot history: Categorical crossentropy & Accuracy\n",
        "import matplotlib.pyplot as plt\n",
        "\n",
        "plt.plot(history.history['loss'], label='Categorical crossentropy (training data)')\n",
        "plt.plot(history.history['val_loss'], label='Categorical crossentropy (validation data)')\n",
        "plt.plot(history.history['accuracy'], label='Accuracy (training data)')\n",
        "plt.plot(history.history['val_accuracy'], label='Accuracy (validation data)')\n",
        "plt.title('Model performance for StackedRNN example')\n",
        "plt.ylabel('Loss value')\n",
        "plt.xlabel('No. epoch')\n",
        "plt.legend(loc=\"upper left\")\n",
        "plt.show()"
      ],
      "execution_count": null,
      "outputs": [
        {
          "output_type": "display_data",
          "data": {
            "image/png": "[encoded data removed]",
            "text/plain": [
              "<Figure size 432x288 with 1 Axes>"
            ]
          },
          "metadata": {
            "tags": [],
            "needs_background": "light"
          }
        }
      ]
    },
    {
      "cell_type": "code",
      "metadata": {
        "id": "RZFKJ25_pOUP"
      },
      "source": [
        ""
      ],
      "execution_count": null,
      "outputs": []
    }
  ]
}